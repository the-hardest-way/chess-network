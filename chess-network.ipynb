{
 "cells": [
  {
   "cell_type": "code",
   "execution_count": null,
   "metadata": {},
   "outputs": [],
   "source": [
    "%pip install chess==v1.9.0\n",
    "%pip install numpy==1.22.3"
   ]
  },
  {
   "cell_type": "code",
   "execution_count": null,
   "metadata": {},
   "outputs": [],
   "source": [
    "import chess\n",
    "import chess.engine\n",
    "import random\n",
    "\n",
    "MAX_MOVES = 100 # Some number of max moves greater than 50. https://en.wikipedia.org/wiki/Fifty-move_rule\n",
    "\n",
    "def random_board():\n",
    "  board = chess.Board()\n",
    "  moves = random.randrange(0, MAX_MOVES) # Choose a random number of moves\n",
    "\n",
    "  for _ in range(moves):\n",
    "    move = random.choice(list(board.legal_moves)) # From possible moves choose one.\n",
    "    board.push(move) # Make the move\n",
    "    if board.is_game_over():\n",
    "      break\n",
    "\n",
    "  return board\n"
   ]
  },
  {
   "cell_type": "code",
   "execution_count": null,
   "metadata": {},
   "outputs": [],
   "source": [
    "board = random_board()\n",
    "board"
   ]
  }
 ],
 "metadata": {
  "interpreter": {
   "hash": "23b2d0656cef698d402653925e76a1e103b2c3e2df359ee826d0cfccaf4886f2"
  },
  "kernelspec": {
   "display_name": "Python 3.9.7 64-bit",
   "language": "python",
   "name": "python3"
  },
  "language_info": {
   "codemirror_mode": {
    "name": "ipython",
    "version": 3
   },
   "file_extension": ".py",
   "mimetype": "text/x-python",
   "name": "python",
   "nbconvert_exporter": "python",
   "pygments_lexer": "ipython3",
   "version": "3.9.7"
  },
  "orig_nbformat": 4
 },
 "nbformat": 4,
 "nbformat_minor": 2
}
